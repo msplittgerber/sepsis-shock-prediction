{
  "cells": [
    {
      "attachments": {},
      "cell_type": "markdown",
      "metadata": {
        "id": "YtHi1ZMsviMR"
      },
      "source": [
        "# Sepsis Prediction\n",
        "Early prediction of sepsis from clinical data, using the [PhysioNet/Computing in Cardiology Challenge 2019 Dataset](https://physionet.org/content/challenge-2019/1.0.0/)"
      ]
    },
    {
      "attachments": {},
      "cell_type": "markdown",
      "metadata": {
        "id": "L3izFhUmwTbH"
      },
      "source": [
        "## Setup"
      ]
    },
    {
      "cell_type": "code",
      "execution_count": 1,
      "metadata": {
        "id": "32fytMEDKmma"
      },
      "outputs": [],
      "source": [
        "import tarfile\n",
        "import pandas as pd\n",
        "import numpy as np\n",
        "from pathlib import Path\n",
        "import matplotlib.pyplot as plt\n",
        "import seaborn as sns\n",
        "\n",
        "from sklearn.model_selection import train_test_split\n",
        "from sklearn.feature_selection import SelectFromModel\n",
        "\n",
        "\n",
        "from keras.models import Sequential\n",
        "from keras.layers import LSTM, Dense\n",
        "from sklearn.preprocessing import MinMaxScaler\n",
        "from sklearn.metrics import accuracy_score, precision_score, recall_score, roc_auc_score, roc_curve\n",
        "from sklearn.utils.class_weight import compute_class_weight"
      ]
    },
    {
      "attachments": {},
      "cell_type": "markdown",
      "metadata": {
        "id": "qo7YAwf6wj9X"
      },
      "source": [
        "**Read data file**"
      ]
    },
    {
      "cell_type": "code",
      "execution_count": 2,
      "metadata": {
        "id": "tJ00YFhzBFZ-"
      },
      "outputs": [],
      "source": [
        "full_df = pd.read_csv(\"training_setA.csv\")"
      ]
    },
    {
      "attachments": {},
      "cell_type": "markdown",
      "metadata": {
        "id": "YeD4diy5wz2n"
      },
      "source": [
        "## Exploratory Data Analysis"
      ]
    },
    {
      "attachments": {},
      "cell_type": "markdown",
      "metadata": {
        "id": "ZU2ChASEdP3Z"
      },
      "source": [
        "### Single and Subsample Analysis"
      ]
    },
    {
      "attachments": {},
      "cell_type": "markdown",
      "metadata": {
        "id": "lAMnEpH0dA0n"
      },
      "source": [
        "Single case"
      ]
    },
    {
      "cell_type": "code",
      "execution_count": 3,
      "metadata": {},
      "outputs": [
        {
          "data": {
            "text/plain": [
              "<Axes: >"
            ]
          },
          "execution_count": 3,
          "metadata": {},
          "output_type": "execute_result"
        },
        {
          "data": {
            "image/png": "[encoded data removed]",
            "text/plain": [
              "<Figure size 640x480 with 1 Axes>"
            ]
          },
          "metadata": {},
          "output_type": "display_data"
        }
      ],
      "source": [
        "first_patient = full_df.loc[full_df[\"patient_id\"]==0,[\"HR\", \"O2Sat\", \"Temp\", \"SepsisLabel\"]]\n",
        "first_patient.plot()"
      ]
    },
    {
      "attachments": {},
      "cell_type": "markdown",
      "metadata": {
        "id": "kly4V6DMeWIT"
      },
      "source": [
        "### Full Sample Analysis"
      ]
    },
    {
      "attachments": {},
      "cell_type": "markdown",
      "metadata": {
        "id": "ED4_uT2behzI"
      },
      "source": [
        "Number of patiens in total and patients with sepsis"
      ]
    },
    {
      "cell_type": "code",
      "execution_count": 4,
      "metadata": {
        "colab": {
          "base_uri": "https://localhost:8080/"
        },
        "id": "rCOkIZ3bebq5",
        "outputId": "a4d05d37-bd23-438d-a21f-d0f9337329ba"
      },
      "outputs": [
        {
          "name": "stdout",
          "output_type": "stream",
          "text": [
            "Number of patients: 20336\n",
            "Number of patients with sepsis: 1790\n",
            "Percentage of positive cases: 8.8 %\n"
          ]
        }
      ],
      "source": [
        "print(\"Number of patients:\", len(full_df['patient_id'].unique()))\n",
        "\n",
        "grp_sepsis_rep = np.array(full_df.groupby(['patient_id']) \\\n",
        "                          ['SepsisLabel'].sum())\n",
        "\n",
        "print(\"Number of patients with sepsis:\", len(grp_sepsis_rep[grp_sepsis_rep > 0]))\n",
        "\n",
        "\n",
        "print(\"Percentage of positive cases:\", round(len(grp_sepsis_rep[grp_sepsis_rep > 0])/len(full_df['patient_id'].unique())*100, 2), \"%\")\n",
        "     \n"
      ]
    },
    {
      "attachments": {},
      "cell_type": "markdown",
      "metadata": {
        "id": "PMiSQ3mGf30J"
      },
      "source": [
        "Number of hours a patient spent in hospital"
      ]
    },
    {
      "cell_type": "code",
      "execution_count": 5,
      "metadata": {
        "colab": {
          "base_uri": "https://localhost:8080/",
          "height": 430
        },
        "id": "7m3Snqv0faoc",
        "outputId": "23c60419-e876-4001-a183-74a6b6c81a2b"
      },
      "outputs": [
        {
          "data": {
            "image/png": "[encoded data removed]",
            "text/plain": [
              "<Figure size 640x480 with 1 Axes>"
            ]
          },
          "metadata": {},
          "output_type": "display_data"
        }
      ],
      "source": [
        "agg_patient_time = np.array(full_df.groupby(['patient_id'])['SepsisLabel']\\\n",
        "                            .count())\n",
        "\n",
        "sns.histplot(agg_patient_time, kde=False, bins = 50);"
      ]
    },
    {
      "attachments": {},
      "cell_type": "markdown",
      "metadata": {
        "id": "DZ59NCkygEXx"
      },
      "source": [
        "Time at which a patient contracts Sepsis"
      ]
    },
    {
      "cell_type": "code",
      "execution_count": 6,
      "metadata": {
        "colab": {
          "base_uri": "https://localhost:8080/",
          "height": 430
        },
        "id": "3OvTU16NgDgh",
        "outputId": "75a62a8c-7408-4287-c0d2-0f75d130ab7a"
      },
      "outputs": [
        {
          "data": {
            "image/png": "[encoded data removed]",
            "text/plain": [
              "<Figure size 640x480 with 1 Axes>"
            ]
          },
          "metadata": {},
          "output_type": "display_data"
        }
      ],
      "source": [
        "\n",
        "temp = full_df.groupby(['patient_id'])['SepsisLabel']\\\n",
        "       .sum().reset_index()\n",
        "\n",
        "sepsis_pid = np.array(temp[temp['SepsisLabel'] > 0]['patient_id'])\n",
        "\n",
        "\n",
        "temp_filter = full_df[full_df['patient_id']\\\n",
        "                                   .isin(sepsis_pid)]\n",
        "\n",
        "sepsis_time = []\n",
        "tot_time = []\n",
        "\n",
        "\n",
        "for pid in sepsis_pid:\n",
        "  df = temp_filter[temp_filter['patient_id']==pid]\n",
        "  sepsis_time.append(df[df['SepsisLabel']==1]['time'].iloc[0])\n",
        "  tot_time.append(df[df['SepsisLabel']==1]['time'][::-1].iloc[0])\n",
        "  \n",
        "sns.histplot(sepsis_time, kde=False);\n"
      ]
    },
    {
      "cell_type": "code",
      "execution_count": 7,
      "metadata": {
        "colab": {
          "base_uri": "https://localhost:8080/",
          "height": 1000
        },
        "id": "0Mh4T9rbkyqI",
        "outputId": "4454937b-79a6-43d9-f16f-a0d6f3163bd8"
      },
      "outputs": [],
      "source": [
        "# for column in full_df.columns:\n",
        "    # Generate histogram for the current column\n",
        "    # plt.figure()  # Create a new figure for each column\n",
        "    # full_df[column].plot(kind='hist', bins=30)\n",
        "    # plt.title(f'Histogram of {column}')\n",
        "    # plt.xlabel(column)\n",
        "    # plt.ylabel('Frequency')\n",
        "    # plt.show()  # Display the histogram"
      ]
    },
    {
      "cell_type": "code",
      "execution_count": 8,
      "metadata": {
        "id": "u5Kgthfqh16o"
      },
      "outputs": [],
      "source": [
        "#sns.pairplot(full_df)"
      ]
    },
    {
      "attachments": {},
      "cell_type": "markdown",
      "metadata": {},
      "source": [
        "## Missing Values Inspectation"
      ]
    },
    {
      "cell_type": "code",
      "execution_count": 9,
      "metadata": {
        "colab": {
          "base_uri": "https://localhost:8080/",
          "height": 767
        },
        "id": "9nLzop1rkDJR",
        "outputId": "2c21dbe5-5f59-4e86-c2cf-46095519fb02"
      },
      "outputs": [
        {
          "data": {
            "text/plain": [
              "EtCO2               0.000000\n",
              "TroponinI           0.001221\n",
              "Bilirubin_direct    0.001496\n",
              "Fibrinogen          0.007631\n",
              "Bilirubin_total     0.012266\n",
              "Alkalinephos        0.014593\n",
              "AST                 0.014958\n",
              "Lactate             0.034349\n",
              "PTT                 0.048475\n",
              "SaO2                0.049556\n",
              "Calcium             0.049756\n",
              "Phosphate           0.050488\n",
              "Platelets           0.065171\n",
              "Creatinine          0.066421\n",
              "WBC                 0.075104\n",
              "Magnesium           0.077803\n",
              "HCO3                0.080506\n",
              "BUN                 0.081593\n",
              "Chloride            0.083239\n",
              "PaCO2               0.087682\n",
              "Hgb                 0.088357\n",
              "BaseExcess          0.104251\n",
              "Potassium           0.108624\n",
              "pH                  0.114671\n",
              "Hct                 0.117763\n",
              "Glucose             0.122316\n",
              "FiO2                0.141930\n",
              "Temp                0.337757\n",
              "Unit2               0.511317\n",
              "Unit1               0.511317\n",
              "DBP                 0.518742\n",
              "SBP                 0.847888\n",
              "O2Sat               0.879680\n",
              "MAP                 0.897676\n",
              "Resp                0.902232\n",
              "HR                  0.922567\n",
              "HospAdmTime         0.999990\n",
              "ICULOS              1.000000\n",
              "time                1.000000\n",
              "Age                 1.000000\n",
              "SepsisLabel         1.000000\n",
              "Gender              1.000000\n",
              "patient_id          1.000000\n",
              "dtype: float64"
            ]
          },
          "metadata": {},
          "output_type": "display_data"
        }
      ],
      "source": [
        "value_availability = full_df.count().sort_values()/full_df.shape[0]\n",
        "display(value_availability)"
      ]
    },
    {
      "attachments": {},
      "cell_type": "markdown",
      "metadata": {},
      "source": [
        "## Filtering and Interpolation"
      ]
    },
    {
      "attachments": {},
      "cell_type": "markdown",
      "metadata": {
        "id": "-HfGe8Ni8S6Y"
      },
      "source": [
        "Several columns have a massiv amount of missing data, i.e. less than 10% available data. Susequently, all columns with less than 10% overall data will be dropped."
      ]
    },
    {
      "cell_type": "code",
      "execution_count": 12,
      "metadata": {},
      "outputs": [
        {
          "name": "stdout",
          "output_type": "stream",
          "text": [
            "Dropped columns (less that 10% availble data): Index(['EtCO2', 'HCO3', 'PaCO2', 'SaO2', 'AST', 'BUN', 'Alkalinephos',\n",
            "       'Calcium', 'Chloride', 'Creatinine', 'Bilirubin_direct', 'Lactate',\n",
            "       'Magnesium', 'Phosphate', 'Bilirubin_total', 'TroponinI', 'Hgb', 'PTT',\n",
            "       'WBC', 'Fibrinogen', 'Platelets'],\n",
            "      dtype='object')\n"
          ]
        }
      ],
      "source": [
        "threshold = 0.90  # Set the threshold for missing data\n",
        "\n",
        "# Calculate the number of non-null values in each column\n",
        "non_null_counts = full_df.notnull().sum()\n",
        "\n",
        "# Calculate the percentage of missing full_df in each column\n",
        "missing_percentages = 1 - (non_null_counts / len(full_df))\n",
        "\n",
        "# Identify columns with missing data exceeding the threshold\n",
        "columns_to_drop = missing_percentages[missing_percentages > threshold].index\n",
        "\n",
        "# Drop columns with excessive missing data\n",
        "full_df = full_df.drop(columns=columns_to_drop)\n",
        "\n",
        "# Display the DataFrame after dropping columns\n",
        "print(\"Dropped columns (less that 10% availble data):\", columns_to_drop)"
      ]
    },
    {
      "attachments": {},
      "cell_type": "markdown",
      "metadata": {},
      "source": [
        "### Interpolate"
      ]
    },
    {
      "attachments": {},
      "cell_type": "markdown",
      "metadata": {},
      "source": [
        "Linear interpolation"
      ]
    },
    {
      "cell_type": "code",
      "execution_count": 13,
      "metadata": {},
      "outputs": [],
      "source": [
        "# Forward- and backward fill missing values at the start of each patient's data\n",
        "full_df_filled = full_df.groupby('patient_id', group_keys=False).apply(lambda group: group.ffill())\n",
        "full_df_filled = full_df_filled.groupby('patient_id', group_keys=False).apply(lambda group: group.bfill())"
      ]
    },
    {
      "cell_type": "code",
      "execution_count": 14,
      "metadata": {},
      "outputs": [
        {
          "name": "stdout",
          "output_type": "stream",
          "text": [
            "(790215, 22)\n",
            "(790215, 22)\n"
          ]
        }
      ],
      "source": [
        "print(full_df.shape)\n",
        "print(full_df_filled.shape)"
      ]
    },
    {
      "cell_type": "code",
      "execution_count": 15,
      "metadata": {},
      "outputs": [
        {
          "data": {
            "text/html": [
              "<div>\n",
              "<style scoped>\n",
              "    .dataframe tbody tr th:only-of-type {\n",
              "        vertical-align: middle;\n",
              "    }\n",
              "\n",
              "    .dataframe tbody tr th {\n",
              "        vertical-align: top;\n",
              "    }\n",
              "\n",
              "    .dataframe thead th {\n",
              "        text-align: right;\n",
              "    }\n",
              "</style>\n",
              "<table border=\"1\" class=\"dataframe\">\n",
              "  <thead>\n",
              "    <tr style=\"text-align: right;\">\n",
              "      <th></th>\n",
              "      <th>time</th>\n",
              "      <th>HR</th>\n",
              "      <th>O2Sat</th>\n",
              "      <th>Temp</th>\n",
              "      <th>SBP</th>\n",
              "      <th>MAP</th>\n",
              "      <th>DBP</th>\n",
              "      <th>Resp</th>\n",
              "      <th>BaseExcess</th>\n",
              "      <th>FiO2</th>\n",
              "      <th>...</th>\n",
              "      <th>Potassium</th>\n",
              "      <th>Hct</th>\n",
              "      <th>Age</th>\n",
              "      <th>Gender</th>\n",
              "      <th>Unit1</th>\n",
              "      <th>Unit2</th>\n",
              "      <th>HospAdmTime</th>\n",
              "      <th>ICULOS</th>\n",
              "      <th>SepsisLabel</th>\n",
              "      <th>patient_id</th>\n",
              "    </tr>\n",
              "  </thead>\n",
              "  <tbody>\n",
              "    <tr>\n",
              "      <th>0</th>\n",
              "      <td>0</td>\n",
              "      <td>52.0</td>\n",
              "      <td>98.0</td>\n",
              "      <td>36.22</td>\n",
              "      <td>134.0</td>\n",
              "      <td>72.67</td>\n",
              "      <td>NaN</td>\n",
              "      <td>20.0</td>\n",
              "      <td>NaN</td>\n",
              "      <td>NaN</td>\n",
              "      <td>...</td>\n",
              "      <td>3.7</td>\n",
              "      <td>36.3</td>\n",
              "      <td>76.16</td>\n",
              "      <td>0</td>\n",
              "      <td>1.0</td>\n",
              "      <td>0.0</td>\n",
              "      <td>-0.02</td>\n",
              "      <td>1</td>\n",
              "      <td>0</td>\n",
              "      <td>0</td>\n",
              "    </tr>\n",
              "    <tr>\n",
              "      <th>1</th>\n",
              "      <td>1</td>\n",
              "      <td>52.0</td>\n",
              "      <td>98.0</td>\n",
              "      <td>36.22</td>\n",
              "      <td>134.0</td>\n",
              "      <td>72.67</td>\n",
              "      <td>NaN</td>\n",
              "      <td>20.0</td>\n",
              "      <td>NaN</td>\n",
              "      <td>NaN</td>\n",
              "      <td>...</td>\n",
              "      <td>3.7</td>\n",
              "      <td>36.3</td>\n",
              "      <td>76.16</td>\n",
              "      <td>0</td>\n",
              "      <td>1.0</td>\n",
              "      <td>0.0</td>\n",
              "      <td>-0.02</td>\n",
              "      <td>2</td>\n",
              "      <td>0</td>\n",
              "      <td>0</td>\n",
              "    </tr>\n",
              "    <tr>\n",
              "      <th>2</th>\n",
              "      <td>2</td>\n",
              "      <td>52.0</td>\n",
              "      <td>98.0</td>\n",
              "      <td>36.22</td>\n",
              "      <td>143.0</td>\n",
              "      <td>80.33</td>\n",
              "      <td>NaN</td>\n",
              "      <td>20.0</td>\n",
              "      <td>NaN</td>\n",
              "      <td>NaN</td>\n",
              "      <td>...</td>\n",
              "      <td>3.7</td>\n",
              "      <td>36.3</td>\n",
              "      <td>76.16</td>\n",
              "      <td>0</td>\n",
              "      <td>1.0</td>\n",
              "      <td>0.0</td>\n",
              "      <td>-0.02</td>\n",
              "      <td>3</td>\n",
              "      <td>0</td>\n",
              "      <td>0</td>\n",
              "    </tr>\n",
              "    <tr>\n",
              "      <th>3</th>\n",
              "      <td>3</td>\n",
              "      <td>60.0</td>\n",
              "      <td>99.0</td>\n",
              "      <td>36.22</td>\n",
              "      <td>154.0</td>\n",
              "      <td>83.33</td>\n",
              "      <td>NaN</td>\n",
              "      <td>16.0</td>\n",
              "      <td>NaN</td>\n",
              "      <td>NaN</td>\n",
              "      <td>...</td>\n",
              "      <td>3.7</td>\n",
              "      <td>36.3</td>\n",
              "      <td>76.16</td>\n",
              "      <td>0</td>\n",
              "      <td>1.0</td>\n",
              "      <td>0.0</td>\n",
              "      <td>-0.02</td>\n",
              "      <td>4</td>\n",
              "      <td>0</td>\n",
              "      <td>0</td>\n",
              "    </tr>\n",
              "    <tr>\n",
              "      <th>4</th>\n",
              "      <td>4</td>\n",
              "      <td>51.0</td>\n",
              "      <td>98.0</td>\n",
              "      <td>36.22</td>\n",
              "      <td>155.0</td>\n",
              "      <td>98.33</td>\n",
              "      <td>NaN</td>\n",
              "      <td>20.0</td>\n",
              "      <td>NaN</td>\n",
              "      <td>NaN</td>\n",
              "      <td>...</td>\n",
              "      <td>3.7</td>\n",
              "      <td>36.3</td>\n",
              "      <td>76.16</td>\n",
              "      <td>0</td>\n",
              "      <td>1.0</td>\n",
              "      <td>0.0</td>\n",
              "      <td>-0.02</td>\n",
              "      <td>5</td>\n",
              "      <td>0</td>\n",
              "      <td>0</td>\n",
              "    </tr>\n",
              "  </tbody>\n",
              "</table>\n",
              "<p>5 rows × 22 columns</p>\n",
              "</div>"
            ],
            "text/plain": [
              "   time    HR  O2Sat   Temp    SBP    MAP  DBP  Resp  BaseExcess  FiO2  ...  \\\n",
              "0     0  52.0   98.0  36.22  134.0  72.67  NaN  20.0         NaN   NaN  ...   \n",
              "1     1  52.0   98.0  36.22  134.0  72.67  NaN  20.0         NaN   NaN  ...   \n",
              "2     2  52.0   98.0  36.22  143.0  80.33  NaN  20.0         NaN   NaN  ...   \n",
              "3     3  60.0   99.0  36.22  154.0  83.33  NaN  16.0         NaN   NaN  ...   \n",
              "4     4  51.0   98.0  36.22  155.0  98.33  NaN  20.0         NaN   NaN  ...   \n",
              "\n",
              "   Potassium   Hct    Age  Gender  Unit1  Unit2  HospAdmTime  ICULOS  \\\n",
              "0        3.7  36.3  76.16       0    1.0    0.0        -0.02       1   \n",
              "1        3.7  36.3  76.16       0    1.0    0.0        -0.02       2   \n",
              "2        3.7  36.3  76.16       0    1.0    0.0        -0.02       3   \n",
              "3        3.7  36.3  76.16       0    1.0    0.0        -0.02       4   \n",
              "4        3.7  36.3  76.16       0    1.0    0.0        -0.02       5   \n",
              "\n",
              "   SepsisLabel  patient_id  \n",
              "0            0           0  \n",
              "1            0           0  \n",
              "2            0           0  \n",
              "3            0           0  \n",
              "4            0           0  \n",
              "\n",
              "[5 rows x 22 columns]"
            ]
          },
          "execution_count": 15,
          "metadata": {},
          "output_type": "execute_result"
        }
      ],
      "source": [
        "full_df_filled.head()"
      ]
    },
    {
      "cell_type": "code",
      "execution_count": 16,
      "metadata": {},
      "outputs": [],
      "source": [
        "# Interpolate missing values within each patient's data using linear interpolation\n",
        "df_int = full_df_filled.groupby('patient_id', group_keys=False).apply(lambda x: x.interpolate(method='linear'))"
      ]
    },
    {
      "cell_type": "code",
      "execution_count": 17,
      "metadata": {},
      "outputs": [
        {
          "data": {
            "text/html": [
              "<div>\n",
              "<style scoped>\n",
              "    .dataframe tbody tr th:only-of-type {\n",
              "        vertical-align: middle;\n",
              "    }\n",
              "\n",
              "    .dataframe tbody tr th {\n",
              "        vertical-align: top;\n",
              "    }\n",
              "\n",
              "    .dataframe thead th {\n",
              "        text-align: right;\n",
              "    }\n",
              "</style>\n",
              "<table border=\"1\" class=\"dataframe\">\n",
              "  <thead>\n",
              "    <tr style=\"text-align: right;\">\n",
              "      <th></th>\n",
              "      <th>time</th>\n",
              "      <th>HR</th>\n",
              "      <th>O2Sat</th>\n",
              "      <th>Temp</th>\n",
              "      <th>SBP</th>\n",
              "      <th>MAP</th>\n",
              "      <th>DBP</th>\n",
              "      <th>Resp</th>\n",
              "      <th>BaseExcess</th>\n",
              "      <th>FiO2</th>\n",
              "      <th>...</th>\n",
              "      <th>Potassium</th>\n",
              "      <th>Hct</th>\n",
              "      <th>Age</th>\n",
              "      <th>Gender</th>\n",
              "      <th>Unit1</th>\n",
              "      <th>Unit2</th>\n",
              "      <th>HospAdmTime</th>\n",
              "      <th>ICULOS</th>\n",
              "      <th>SepsisLabel</th>\n",
              "      <th>patient_id</th>\n",
              "    </tr>\n",
              "  </thead>\n",
              "  <tbody>\n",
              "    <tr>\n",
              "      <th>0</th>\n",
              "      <td>0</td>\n",
              "      <td>52.0</td>\n",
              "      <td>98.0</td>\n",
              "      <td>36.22</td>\n",
              "      <td>134.0</td>\n",
              "      <td>72.67</td>\n",
              "      <td>NaN</td>\n",
              "      <td>20.0</td>\n",
              "      <td>NaN</td>\n",
              "      <td>NaN</td>\n",
              "      <td>...</td>\n",
              "      <td>3.7</td>\n",
              "      <td>36.3</td>\n",
              "      <td>76.16</td>\n",
              "      <td>0</td>\n",
              "      <td>1.0</td>\n",
              "      <td>0.0</td>\n",
              "      <td>-0.02</td>\n",
              "      <td>1</td>\n",
              "      <td>0</td>\n",
              "      <td>0</td>\n",
              "    </tr>\n",
              "    <tr>\n",
              "      <th>1</th>\n",
              "      <td>1</td>\n",
              "      <td>52.0</td>\n",
              "      <td>98.0</td>\n",
              "      <td>36.22</td>\n",
              "      <td>134.0</td>\n",
              "      <td>72.67</td>\n",
              "      <td>NaN</td>\n",
              "      <td>20.0</td>\n",
              "      <td>NaN</td>\n",
              "      <td>NaN</td>\n",
              "      <td>...</td>\n",
              "      <td>3.7</td>\n",
              "      <td>36.3</td>\n",
              "      <td>76.16</td>\n",
              "      <td>0</td>\n",
              "      <td>1.0</td>\n",
              "      <td>0.0</td>\n",
              "      <td>-0.02</td>\n",
              "      <td>2</td>\n",
              "      <td>0</td>\n",
              "      <td>0</td>\n",
              "    </tr>\n",
              "    <tr>\n",
              "      <th>2</th>\n",
              "      <td>2</td>\n",
              "      <td>52.0</td>\n",
              "      <td>98.0</td>\n",
              "      <td>36.22</td>\n",
              "      <td>143.0</td>\n",
              "      <td>80.33</td>\n",
              "      <td>NaN</td>\n",
              "      <td>20.0</td>\n",
              "      <td>NaN</td>\n",
              "      <td>NaN</td>\n",
              "      <td>...</td>\n",
              "      <td>3.7</td>\n",
              "      <td>36.3</td>\n",
              "      <td>76.16</td>\n",
              "      <td>0</td>\n",
              "      <td>1.0</td>\n",
              "      <td>0.0</td>\n",
              "      <td>-0.02</td>\n",
              "      <td>3</td>\n",
              "      <td>0</td>\n",
              "      <td>0</td>\n",
              "    </tr>\n",
              "    <tr>\n",
              "      <th>3</th>\n",
              "      <td>3</td>\n",
              "      <td>60.0</td>\n",
              "      <td>99.0</td>\n",
              "      <td>36.22</td>\n",
              "      <td>154.0</td>\n",
              "      <td>83.33</td>\n",
              "      <td>NaN</td>\n",
              "      <td>16.0</td>\n",
              "      <td>NaN</td>\n",
              "      <td>NaN</td>\n",
              "      <td>...</td>\n",
              "      <td>3.7</td>\n",
              "      <td>36.3</td>\n",
              "      <td>76.16</td>\n",
              "      <td>0</td>\n",
              "      <td>1.0</td>\n",
              "      <td>0.0</td>\n",
              "      <td>-0.02</td>\n",
              "      <td>4</td>\n",
              "      <td>0</td>\n",
              "      <td>0</td>\n",
              "    </tr>\n",
              "    <tr>\n",
              "      <th>4</th>\n",
              "      <td>4</td>\n",
              "      <td>51.0</td>\n",
              "      <td>98.0</td>\n",
              "      <td>36.22</td>\n",
              "      <td>155.0</td>\n",
              "      <td>98.33</td>\n",
              "      <td>NaN</td>\n",
              "      <td>20.0</td>\n",
              "      <td>NaN</td>\n",
              "      <td>NaN</td>\n",
              "      <td>...</td>\n",
              "      <td>3.7</td>\n",
              "      <td>36.3</td>\n",
              "      <td>76.16</td>\n",
              "      <td>0</td>\n",
              "      <td>1.0</td>\n",
              "      <td>0.0</td>\n",
              "      <td>-0.02</td>\n",
              "      <td>5</td>\n",
              "      <td>0</td>\n",
              "      <td>0</td>\n",
              "    </tr>\n",
              "  </tbody>\n",
              "</table>\n",
              "<p>5 rows × 22 columns</p>\n",
              "</div>"
            ],
            "text/plain": [
              "   time    HR  O2Sat   Temp    SBP    MAP  DBP  Resp  BaseExcess  FiO2  ...  \\\n",
              "0     0  52.0   98.0  36.22  134.0  72.67  NaN  20.0         NaN   NaN  ...   \n",
              "1     1  52.0   98.0  36.22  134.0  72.67  NaN  20.0         NaN   NaN  ...   \n",
              "2     2  52.0   98.0  36.22  143.0  80.33  NaN  20.0         NaN   NaN  ...   \n",
              "3     3  60.0   99.0  36.22  154.0  83.33  NaN  16.0         NaN   NaN  ...   \n",
              "4     4  51.0   98.0  36.22  155.0  98.33  NaN  20.0         NaN   NaN  ...   \n",
              "\n",
              "   Potassium   Hct    Age  Gender  Unit1  Unit2  HospAdmTime  ICULOS  \\\n",
              "0        3.7  36.3  76.16       0    1.0    0.0        -0.02       1   \n",
              "1        3.7  36.3  76.16       0    1.0    0.0        -0.02       2   \n",
              "2        3.7  36.3  76.16       0    1.0    0.0        -0.02       3   \n",
              "3        3.7  36.3  76.16       0    1.0    0.0        -0.02       4   \n",
              "4        3.7  36.3  76.16       0    1.0    0.0        -0.02       5   \n",
              "\n",
              "   SepsisLabel  patient_id  \n",
              "0            0           0  \n",
              "1            0           0  \n",
              "2            0           0  \n",
              "3            0           0  \n",
              "4            0           0  \n",
              "\n",
              "[5 rows x 22 columns]"
            ]
          },
          "execution_count": 17,
          "metadata": {},
          "output_type": "execute_result"
        }
      ],
      "source": [
        "df_int.head()"
      ]
    },
    {
      "cell_type": "code",
      "execution_count": 18,
      "metadata": {},
      "outputs": [
        {
          "data": {
            "text/plain": [
              "Index(['time', 'HR', 'O2Sat', 'Temp', 'SBP', 'MAP', 'DBP', 'Resp',\n",
              "       'BaseExcess', 'FiO2', 'pH', 'Glucose', 'Potassium', 'Hct', 'Age',\n",
              "       'Gender', 'Unit1', 'Unit2', 'HospAdmTime', 'ICULOS', 'SepsisLabel',\n",
              "       'patient_id'],\n",
              "      dtype='object')"
            ]
          },
          "execution_count": 18,
          "metadata": {},
          "output_type": "execute_result"
        }
      ],
      "source": [
        "df_int.columns"
      ]
    },
    {
      "cell_type": "code",
      "execution_count": 19,
      "metadata": {},
      "outputs": [],
      "source": [
        "vars = df_int.columns\n",
        "# Calculate the mean for the variables over all patients\n",
        "mean_values = df_int[vars].mean()\n",
        "\n",
        "# Iterate over the variables and fill missing values with the corresponding mean\n",
        "for variable in vars:\n",
        "    df_int[variable] = df_int[variable].fillna(mean_values[variable])\n"
      ]
    },
    {
      "cell_type": "code",
      "execution_count": 20,
      "metadata": {},
      "outputs": [
        {
          "data": {
            "text/html": [
              "<div>\n",
              "<style scoped>\n",
              "    .dataframe tbody tr th:only-of-type {\n",
              "        vertical-align: middle;\n",
              "    }\n",
              "\n",
              "    .dataframe tbody tr th {\n",
              "        vertical-align: top;\n",
              "    }\n",
              "\n",
              "    .dataframe thead th {\n",
              "        text-align: right;\n",
              "    }\n",
              "</style>\n",
              "<table border=\"1\" class=\"dataframe\">\n",
              "  <thead>\n",
              "    <tr style=\"text-align: right;\">\n",
              "      <th></th>\n",
              "      <th>time</th>\n",
              "      <th>HR</th>\n",
              "      <th>O2Sat</th>\n",
              "      <th>Temp</th>\n",
              "      <th>SBP</th>\n",
              "      <th>MAP</th>\n",
              "      <th>DBP</th>\n",
              "      <th>Resp</th>\n",
              "      <th>BaseExcess</th>\n",
              "      <th>FiO2</th>\n",
              "      <th>...</th>\n",
              "      <th>Potassium</th>\n",
              "      <th>Hct</th>\n",
              "      <th>Age</th>\n",
              "      <th>Gender</th>\n",
              "      <th>Unit1</th>\n",
              "      <th>Unit2</th>\n",
              "      <th>HospAdmTime</th>\n",
              "      <th>ICULOS</th>\n",
              "      <th>SepsisLabel</th>\n",
              "      <th>patient_id</th>\n",
              "    </tr>\n",
              "  </thead>\n",
              "  <tbody>\n",
              "    <tr>\n",
              "      <th>0</th>\n",
              "      <td>0</td>\n",
              "      <td>52.0</td>\n",
              "      <td>98.0</td>\n",
              "      <td>36.22</td>\n",
              "      <td>134.0</td>\n",
              "      <td>72.67</td>\n",
              "      <td>60.773805</td>\n",
              "      <td>20.0</td>\n",
              "      <td>0.020709</td>\n",
              "      <td>0.519688</td>\n",
              "      <td>...</td>\n",
              "      <td>3.7</td>\n",
              "      <td>36.3</td>\n",
              "      <td>76.16</td>\n",
              "      <td>0</td>\n",
              "      <td>1.0</td>\n",
              "      <td>0.0</td>\n",
              "      <td>-0.02</td>\n",
              "      <td>1</td>\n",
              "      <td>0</td>\n",
              "      <td>0</td>\n",
              "    </tr>\n",
              "    <tr>\n",
              "      <th>1</th>\n",
              "      <td>1</td>\n",
              "      <td>52.0</td>\n",
              "      <td>98.0</td>\n",
              "      <td>36.22</td>\n",
              "      <td>134.0</td>\n",
              "      <td>72.67</td>\n",
              "      <td>60.773805</td>\n",
              "      <td>20.0</td>\n",
              "      <td>0.020709</td>\n",
              "      <td>0.519688</td>\n",
              "      <td>...</td>\n",
              "      <td>3.7</td>\n",
              "      <td>36.3</td>\n",
              "      <td>76.16</td>\n",
              "      <td>0</td>\n",
              "      <td>1.0</td>\n",
              "      <td>0.0</td>\n",
              "      <td>-0.02</td>\n",
              "      <td>2</td>\n",
              "      <td>0</td>\n",
              "      <td>0</td>\n",
              "    </tr>\n",
              "    <tr>\n",
              "      <th>2</th>\n",
              "      <td>2</td>\n",
              "      <td>52.0</td>\n",
              "      <td>98.0</td>\n",
              "      <td>36.22</td>\n",
              "      <td>143.0</td>\n",
              "      <td>80.33</td>\n",
              "      <td>60.773805</td>\n",
              "      <td>20.0</td>\n",
              "      <td>0.020709</td>\n",
              "      <td>0.519688</td>\n",
              "      <td>...</td>\n",
              "      <td>3.7</td>\n",
              "      <td>36.3</td>\n",
              "      <td>76.16</td>\n",
              "      <td>0</td>\n",
              "      <td>1.0</td>\n",
              "      <td>0.0</td>\n",
              "      <td>-0.02</td>\n",
              "      <td>3</td>\n",
              "      <td>0</td>\n",
              "      <td>0</td>\n",
              "    </tr>\n",
              "    <tr>\n",
              "      <th>3</th>\n",
              "      <td>3</td>\n",
              "      <td>60.0</td>\n",
              "      <td>99.0</td>\n",
              "      <td>36.22</td>\n",
              "      <td>154.0</td>\n",
              "      <td>83.33</td>\n",
              "      <td>60.773805</td>\n",
              "      <td>16.0</td>\n",
              "      <td>0.020709</td>\n",
              "      <td>0.519688</td>\n",
              "      <td>...</td>\n",
              "      <td>3.7</td>\n",
              "      <td>36.3</td>\n",
              "      <td>76.16</td>\n",
              "      <td>0</td>\n",
              "      <td>1.0</td>\n",
              "      <td>0.0</td>\n",
              "      <td>-0.02</td>\n",
              "      <td>4</td>\n",
              "      <td>0</td>\n",
              "      <td>0</td>\n",
              "    </tr>\n",
              "    <tr>\n",
              "      <th>4</th>\n",
              "      <td>4</td>\n",
              "      <td>51.0</td>\n",
              "      <td>98.0</td>\n",
              "      <td>36.22</td>\n",
              "      <td>155.0</td>\n",
              "      <td>98.33</td>\n",
              "      <td>60.773805</td>\n",
              "      <td>20.0</td>\n",
              "      <td>0.020709</td>\n",
              "      <td>0.519688</td>\n",
              "      <td>...</td>\n",
              "      <td>3.7</td>\n",
              "      <td>36.3</td>\n",
              "      <td>76.16</td>\n",
              "      <td>0</td>\n",
              "      <td>1.0</td>\n",
              "      <td>0.0</td>\n",
              "      <td>-0.02</td>\n",
              "      <td>5</td>\n",
              "      <td>0</td>\n",
              "      <td>0</td>\n",
              "    </tr>\n",
              "  </tbody>\n",
              "</table>\n",
              "<p>5 rows × 22 columns</p>\n",
              "</div>"
            ],
            "text/plain": [
              "   time    HR  O2Sat   Temp    SBP    MAP        DBP  Resp  BaseExcess  \\\n",
              "0     0  52.0   98.0  36.22  134.0  72.67  60.773805  20.0    0.020709   \n",
              "1     1  52.0   98.0  36.22  134.0  72.67  60.773805  20.0    0.020709   \n",
              "2     2  52.0   98.0  36.22  143.0  80.33  60.773805  20.0    0.020709   \n",
              "3     3  60.0   99.0  36.22  154.0  83.33  60.773805  16.0    0.020709   \n",
              "4     4  51.0   98.0  36.22  155.0  98.33  60.773805  20.0    0.020709   \n",
              "\n",
              "       FiO2  ...  Potassium   Hct    Age  Gender  Unit1  Unit2  HospAdmTime  \\\n",
              "0  0.519688  ...        3.7  36.3  76.16       0    1.0    0.0        -0.02   \n",
              "1  0.519688  ...        3.7  36.3  76.16       0    1.0    0.0        -0.02   \n",
              "2  0.519688  ...        3.7  36.3  76.16       0    1.0    0.0        -0.02   \n",
              "3  0.519688  ...        3.7  36.3  76.16       0    1.0    0.0        -0.02   \n",
              "4  0.519688  ...        3.7  36.3  76.16       0    1.0    0.0        -0.02   \n",
              "\n",
              "   ICULOS  SepsisLabel  patient_id  \n",
              "0       1            0           0  \n",
              "1       2            0           0  \n",
              "2       3            0           0  \n",
              "3       4            0           0  \n",
              "4       5            0           0  \n",
              "\n",
              "[5 rows x 22 columns]"
            ]
          },
          "execution_count": 20,
          "metadata": {},
          "output_type": "execute_result"
        }
      ],
      "source": [
        "df_int.head()"
      ]
    },
    {
      "cell_type": "code",
      "execution_count": 21,
      "metadata": {},
      "outputs": [
        {
          "data": {
            "image/png": "[encoded data removed]",
            "text/plain": [
              "<Figure size 640x480 with 1 Axes>"
            ]
          },
          "metadata": {},
          "output_type": "display_data"
        }
      ],
      "source": [
        "# Choose a specific patient for plotting (e.g., patient_id = 0)\n",
        "patient_id = 975\n",
        "\n",
        "# Specify the columns to plot\n",
        "columns_to_plot = [\"HR\", \"O2Sat\", \"Temp\", \"SepsisLabel\"]\n",
        "\n",
        "# Generate a color palette based on the number of variables\n",
        "color_palette = sns.color_palette('Set2', len(columns_to_plot))\n",
        "\n",
        "# Filter the original and interpolated data for the selected patient\n",
        "original_patient_data = full_df[full_df['patient_id'] == patient_id]\n",
        "interpolated_patient_data = df_int[df_int['patient_id'] == patient_id]\n",
        "\n",
        "# Set up the figure and subplot\n",
        "fig, ax = plt.subplots()\n",
        "\n",
        "# Iterate over the columns and plot the original and interpolated data\n",
        "for variable, color in zip(columns_to_plot, color_palette):\n",
        "    # Plot the original data\n",
        "    ax.plot(original_patient_data['time'], original_patient_data[variable], label=f'Original {variable}', color=color)\n",
        "\n",
        "    # Plot the interpolated data\n",
        "    ax.plot(interpolated_patient_data['time'], interpolated_patient_data[variable], label=f'Interpolated {variable}', linestyle='--', color=color)\n",
        "\n",
        "\n",
        "# Set labels and title\n",
        "ax.set_xlabel('Time')\n",
        "ax.set_ylabel('Value')\n",
        "ax.set_title(f'Comparison of Original and Interpolated Data (Patient {patient_id})')\n",
        "\n",
        "# Add legend\n",
        "ax.legend(bbox_to_anchor=(1, 0.5), loc=\"upper left\")\n",
        "\n",
        "# Show the plot\n",
        "plt.show()"
      ]
    },
    {
      "attachments": {},
      "cell_type": "markdown",
      "metadata": {},
      "source": [
        "## Time Series Prediction Models"
      ]
    },
    {
      "attachments": {},
      "cell_type": "markdown",
      "metadata": {},
      "source": [
        "### Create test and train set"
      ]
    },
    {
      "cell_type": "code",
      "execution_count": 22,
      "metadata": {},
      "outputs": [],
      "source": [
        "# Optional subsample for testing\n",
        "\n",
        "# n = 80  # Number of patients to select\n",
        "\n",
        "# # Get unique patient IDs\n",
        "# unique_patients = df_int['patient_id'].unique()\n",
        "\n",
        "# # Select a subset of n unique patients\n",
        "# selected_patients = pd.Series(unique_patients).sample(n=n, random_state=42)\n",
        "\n",
        "# # Filter the data frame based on the selected patients and preserve the order\n",
        "# df_int_subs = df_int[df_int['patient_id'].isin(selected_patients)].sort_values(by=['patient_id', 'time'])\n"
      ]
    },
    {
      "cell_type": "code",
      "execution_count": 23,
      "metadata": {},
      "outputs": [
        {
          "data": {
            "text/html": [
              "<div>\n",
              "<style scoped>\n",
              "    .dataframe tbody tr th:only-of-type {\n",
              "        vertical-align: middle;\n",
              "    }\n",
              "\n",
              "    .dataframe tbody tr th {\n",
              "        vertical-align: top;\n",
              "    }\n",
              "\n",
              "    .dataframe thead th {\n",
              "        text-align: right;\n",
              "    }\n",
              "</style>\n",
              "<table border=\"1\" class=\"dataframe\">\n",
              "  <thead>\n",
              "    <tr style=\"text-align: right;\">\n",
              "      <th></th>\n",
              "      <th>time</th>\n",
              "      <th>HR</th>\n",
              "      <th>O2Sat</th>\n",
              "      <th>Temp</th>\n",
              "      <th>SBP</th>\n",
              "      <th>MAP</th>\n",
              "      <th>DBP</th>\n",
              "      <th>Resp</th>\n",
              "      <th>BaseExcess</th>\n",
              "      <th>FiO2</th>\n",
              "      <th>...</th>\n",
              "      <th>Potassium</th>\n",
              "      <th>Hct</th>\n",
              "      <th>Age</th>\n",
              "      <th>Gender</th>\n",
              "      <th>Unit1</th>\n",
              "      <th>Unit2</th>\n",
              "      <th>HospAdmTime</th>\n",
              "      <th>ICULOS</th>\n",
              "      <th>SepsisLabel</th>\n",
              "      <th>patient_id</th>\n",
              "    </tr>\n",
              "  </thead>\n",
              "  <tbody>\n",
              "    <tr>\n",
              "      <th>0</th>\n",
              "      <td>0</td>\n",
              "      <td>52.0</td>\n",
              "      <td>98.0</td>\n",
              "      <td>36.22</td>\n",
              "      <td>134.0</td>\n",
              "      <td>72.67</td>\n",
              "      <td>60.773805</td>\n",
              "      <td>20.0</td>\n",
              "      <td>0.020709</td>\n",
              "      <td>0.519688</td>\n",
              "      <td>...</td>\n",
              "      <td>3.7</td>\n",
              "      <td>36.3</td>\n",
              "      <td>76.16</td>\n",
              "      <td>0</td>\n",
              "      <td>1.0</td>\n",
              "      <td>0.0</td>\n",
              "      <td>-0.02</td>\n",
              "      <td>1</td>\n",
              "      <td>0</td>\n",
              "      <td>0</td>\n",
              "    </tr>\n",
              "    <tr>\n",
              "      <th>1</th>\n",
              "      <td>1</td>\n",
              "      <td>52.0</td>\n",
              "      <td>98.0</td>\n",
              "      <td>36.22</td>\n",
              "      <td>134.0</td>\n",
              "      <td>72.67</td>\n",
              "      <td>60.773805</td>\n",
              "      <td>20.0</td>\n",
              "      <td>0.020709</td>\n",
              "      <td>0.519688</td>\n",
              "      <td>...</td>\n",
              "      <td>3.7</td>\n",
              "      <td>36.3</td>\n",
              "      <td>76.16</td>\n",
              "      <td>0</td>\n",
              "      <td>1.0</td>\n",
              "      <td>0.0</td>\n",
              "      <td>-0.02</td>\n",
              "      <td>2</td>\n",
              "      <td>0</td>\n",
              "      <td>0</td>\n",
              "    </tr>\n",
              "    <tr>\n",
              "      <th>2</th>\n",
              "      <td>2</td>\n",
              "      <td>52.0</td>\n",
              "      <td>98.0</td>\n",
              "      <td>36.22</td>\n",
              "      <td>143.0</td>\n",
              "      <td>80.33</td>\n",
              "      <td>60.773805</td>\n",
              "      <td>20.0</td>\n",
              "      <td>0.020709</td>\n",
              "      <td>0.519688</td>\n",
              "      <td>...</td>\n",
              "      <td>3.7</td>\n",
              "      <td>36.3</td>\n",
              "      <td>76.16</td>\n",
              "      <td>0</td>\n",
              "      <td>1.0</td>\n",
              "      <td>0.0</td>\n",
              "      <td>-0.02</td>\n",
              "      <td>3</td>\n",
              "      <td>0</td>\n",
              "      <td>0</td>\n",
              "    </tr>\n",
              "    <tr>\n",
              "      <th>3</th>\n",
              "      <td>3</td>\n",
              "      <td>60.0</td>\n",
              "      <td>99.0</td>\n",
              "      <td>36.22</td>\n",
              "      <td>154.0</td>\n",
              "      <td>83.33</td>\n",
              "      <td>60.773805</td>\n",
              "      <td>16.0</td>\n",
              "      <td>0.020709</td>\n",
              "      <td>0.519688</td>\n",
              "      <td>...</td>\n",
              "      <td>3.7</td>\n",
              "      <td>36.3</td>\n",
              "      <td>76.16</td>\n",
              "      <td>0</td>\n",
              "      <td>1.0</td>\n",
              "      <td>0.0</td>\n",
              "      <td>-0.02</td>\n",
              "      <td>4</td>\n",
              "      <td>0</td>\n",
              "      <td>0</td>\n",
              "    </tr>\n",
              "    <tr>\n",
              "      <th>4</th>\n",
              "      <td>4</td>\n",
              "      <td>51.0</td>\n",
              "      <td>98.0</td>\n",
              "      <td>36.22</td>\n",
              "      <td>155.0</td>\n",
              "      <td>98.33</td>\n",
              "      <td>60.773805</td>\n",
              "      <td>20.0</td>\n",
              "      <td>0.020709</td>\n",
              "      <td>0.519688</td>\n",
              "      <td>...</td>\n",
              "      <td>3.7</td>\n",
              "      <td>36.3</td>\n",
              "      <td>76.16</td>\n",
              "      <td>0</td>\n",
              "      <td>1.0</td>\n",
              "      <td>0.0</td>\n",
              "      <td>-0.02</td>\n",
              "      <td>5</td>\n",
              "      <td>0</td>\n",
              "      <td>0</td>\n",
              "    </tr>\n",
              "  </tbody>\n",
              "</table>\n",
              "<p>5 rows × 22 columns</p>\n",
              "</div>"
            ],
            "text/plain": [
              "   time    HR  O2Sat   Temp    SBP    MAP        DBP  Resp  BaseExcess  \\\n",
              "0     0  52.0   98.0  36.22  134.0  72.67  60.773805  20.0    0.020709   \n",
              "1     1  52.0   98.0  36.22  134.0  72.67  60.773805  20.0    0.020709   \n",
              "2     2  52.0   98.0  36.22  143.0  80.33  60.773805  20.0    0.020709   \n",
              "3     3  60.0   99.0  36.22  154.0  83.33  60.773805  16.0    0.020709   \n",
              "4     4  51.0   98.0  36.22  155.0  98.33  60.773805  20.0    0.020709   \n",
              "\n",
              "       FiO2  ...  Potassium   Hct    Age  Gender  Unit1  Unit2  HospAdmTime  \\\n",
              "0  0.519688  ...        3.7  36.3  76.16       0    1.0    0.0        -0.02   \n",
              "1  0.519688  ...        3.7  36.3  76.16       0    1.0    0.0        -0.02   \n",
              "2  0.519688  ...        3.7  36.3  76.16       0    1.0    0.0        -0.02   \n",
              "3  0.519688  ...        3.7  36.3  76.16       0    1.0    0.0        -0.02   \n",
              "4  0.519688  ...        3.7  36.3  76.16       0    1.0    0.0        -0.02   \n",
              "\n",
              "   ICULOS  SepsisLabel  patient_id  \n",
              "0       1            0           0  \n",
              "1       2            0           0  \n",
              "2       3            0           0  \n",
              "3       4            0           0  \n",
              "4       5            0           0  \n",
              "\n",
              "[5 rows x 22 columns]"
            ]
          },
          "execution_count": 23,
          "metadata": {},
          "output_type": "execute_result"
        }
      ],
      "source": [
        "df_int.head()"
      ]
    },
    {
      "cell_type": "code",
      "execution_count": 24,
      "metadata": {},
      "outputs": [
        {
          "name": "stdout",
          "output_type": "stream",
          "text": [
            "[    0     1     2 ... 20333 20334 20335]\n"
          ]
        },
        {
          "data": {
            "text/plain": [
              "20336"
            ]
          },
          "execution_count": 24,
          "metadata": {},
          "output_type": "execute_result"
        }
      ],
      "source": [
        "unique_patients = df_int['patient_id'].unique()\n",
        "print(unique_patients)\n",
        "len(unique_patients)"
      ]
    },
    {
      "cell_type": "code",
      "execution_count": 25,
      "metadata": {},
      "outputs": [],
      "source": [
        "unique_patients = df_int['patient_id'].unique()\n",
        "\n",
        "# Split the patients into train and test sets\n",
        "train_patients, test_patients = train_test_split(unique_patients, test_size=0.1, random_state=42)\n",
        "\n",
        "# Filter the data based on the train and test patients\n",
        "train_data = df_int[df_int['patient_id'].isin(train_patients)]\n",
        "test_data = df_int[df_int['patient_id'].isin(test_patients)]"
      ]
    },
    {
      "attachments": {},
      "cell_type": "markdown",
      "metadata": {},
      "source": [
        "Check for remaining missing data"
      ]
    },
    {
      "cell_type": "code",
      "execution_count": 26,
      "metadata": {},
      "outputs": [
        {
          "data": {
            "text/plain": [
              "False"
            ]
          },
          "execution_count": 26,
          "metadata": {},
          "output_type": "execute_result"
        }
      ],
      "source": [
        "train_data.isnull().values.any()\n"
      ]
    },
    {
      "cell_type": "code",
      "execution_count": 27,
      "metadata": {},
      "outputs": [
        {
          "data": {
            "text/plain": [
              "False"
            ]
          },
          "execution_count": 27,
          "metadata": {},
          "output_type": "execute_result"
        }
      ],
      "source": [
        "test_data.isnull().values.any()"
      ]
    },
    {
      "cell_type": "code",
      "execution_count": 28,
      "metadata": {},
      "outputs": [],
      "source": [
        "# Scale the features using MinMaxScaler\n",
        "scaler = MinMaxScaler()\n",
        "train_data_scaled = scaler.fit_transform(train_data)\n",
        "test_data_scaled = scaler.transform(test_data)"
      ]
    },
    {
      "cell_type": "code",
      "execution_count": 29,
      "metadata": {},
      "outputs": [],
      "source": [
        "features = train_data.loc[:,train_data.columns!=\"SepsisLabel\"].columns\n",
        "\n",
        "n_features = len(features)-1"
      ]
    },
    {
      "attachments": {},
      "cell_type": "markdown",
      "metadata": {},
      "source": [
        "### LSTM"
      ]
    },
    {
      "attachments": {},
      "cell_type": "markdown",
      "metadata": {},
      "source": [
        "#### Window Size 5"
      ]
    },
    {
      "cell_type": "code",
      "execution_count": 30,
      "metadata": {},
      "outputs": [],
      "source": [
        "window_size = 5\n",
        "\n",
        "# Define a function to create sliding windows for each patient\n",
        "def create_sliding_windows(data):\n",
        "    \"\"\"\n",
        "    Creates sliding windows of a specified size from the given data.\n",
        "\n",
        "    Args:\n",
        "        data (pandas.DataFrame): The input data from which sliding windows are created.\n",
        "\n",
        "    Returns:\n",
        "        list: A list of sliding windows, where each window is a subset of the input data.\n",
        "\n",
        "    \"\"\"\n",
        "    windows = []\n",
        "    for i in range(len(data) - window_size + 1):\n",
        "        window = data.iloc[i:i+window_size]\n",
        "        windows.append(window)\n",
        "    return windows"
      ]
    },
    {
      "cell_type": "code",
      "execution_count": 31,
      "metadata": {},
      "outputs": [],
      "source": [
        "# Create sliding windows for each patient in the training data\n",
        "train_windows = train_data.groupby('patient_id').apply(create_sliding_windows)"
      ]
    },
    {
      "cell_type": "code",
      "execution_count": 32,
      "metadata": {},
      "outputs": [
        {
          "data": {
            "text/html": [
              "<div>\n",
              "<style scoped>\n",
              "    .dataframe tbody tr th:only-of-type {\n",
              "        vertical-align: middle;\n",
              "    }\n",
              "\n",
              "    .dataframe tbody tr th {\n",
              "        vertical-align: top;\n",
              "    }\n",
              "\n",
              "    .dataframe thead th {\n",
              "        text-align: right;\n",
              "    }\n",
              "</style>\n",
              "<table border=\"1\" class=\"dataframe\">\n",
              "  <thead>\n",
              "    <tr style=\"text-align: right;\">\n",
              "      <th></th>\n",
              "      <th>time</th>\n",
              "      <th>HR</th>\n",
              "      <th>O2Sat</th>\n",
              "      <th>Temp</th>\n",
              "      <th>SBP</th>\n",
              "      <th>MAP</th>\n",
              "      <th>DBP</th>\n",
              "      <th>Resp</th>\n",
              "      <th>BaseExcess</th>\n",
              "      <th>FiO2</th>\n",
              "      <th>...</th>\n",
              "      <th>Potassium</th>\n",
              "      <th>Hct</th>\n",
              "      <th>Age</th>\n",
              "      <th>Gender</th>\n",
              "      <th>Unit1</th>\n",
              "      <th>Unit2</th>\n",
              "      <th>HospAdmTime</th>\n",
              "      <th>ICULOS</th>\n",
              "      <th>SepsisLabel</th>\n",
              "      <th>patient_id</th>\n",
              "    </tr>\n",
              "  </thead>\n",
              "  <tbody>\n",
              "    <tr>\n",
              "      <th>0</th>\n",
              "      <td>0</td>\n",
              "      <td>52.0</td>\n",
              "      <td>98.0</td>\n",
              "      <td>36.22</td>\n",
              "      <td>134.0</td>\n",
              "      <td>72.67</td>\n",
              "      <td>60.773805</td>\n",
              "      <td>20.0</td>\n",
              "      <td>0.020709</td>\n",
              "      <td>0.519688</td>\n",
              "      <td>...</td>\n",
              "      <td>3.7</td>\n",
              "      <td>36.3</td>\n",
              "      <td>76.16</td>\n",
              "      <td>0</td>\n",
              "      <td>1.0</td>\n",
              "      <td>0.0</td>\n",
              "      <td>-0.02</td>\n",
              "      <td>1</td>\n",
              "      <td>0</td>\n",
              "      <td>0</td>\n",
              "    </tr>\n",
              "    <tr>\n",
              "      <th>1</th>\n",
              "      <td>1</td>\n",
              "      <td>52.0</td>\n",
              "      <td>98.0</td>\n",
              "      <td>36.22</td>\n",
              "      <td>134.0</td>\n",
              "      <td>72.67</td>\n",
              "      <td>60.773805</td>\n",
              "      <td>20.0</td>\n",
              "      <td>0.020709</td>\n",
              "      <td>0.519688</td>\n",
              "      <td>...</td>\n",
              "      <td>3.7</td>\n",
              "      <td>36.3</td>\n",
              "      <td>76.16</td>\n",
              "      <td>0</td>\n",
              "      <td>1.0</td>\n",
              "      <td>0.0</td>\n",
              "      <td>-0.02</td>\n",
              "      <td>2</td>\n",
              "      <td>0</td>\n",
              "      <td>0</td>\n",
              "    </tr>\n",
              "    <tr>\n",
              "      <th>2</th>\n",
              "      <td>2</td>\n",
              "      <td>52.0</td>\n",
              "      <td>98.0</td>\n",
              "      <td>36.22</td>\n",
              "      <td>143.0</td>\n",
              "      <td>80.33</td>\n",
              "      <td>60.773805</td>\n",
              "      <td>20.0</td>\n",
              "      <td>0.020709</td>\n",
              "      <td>0.519688</td>\n",
              "      <td>...</td>\n",
              "      <td>3.7</td>\n",
              "      <td>36.3</td>\n",
              "      <td>76.16</td>\n",
              "      <td>0</td>\n",
              "      <td>1.0</td>\n",
              "      <td>0.0</td>\n",
              "      <td>-0.02</td>\n",
              "      <td>3</td>\n",
              "      <td>0</td>\n",
              "      <td>0</td>\n",
              "    </tr>\n",
              "    <tr>\n",
              "      <th>3</th>\n",
              "      <td>3</td>\n",
              "      <td>60.0</td>\n",
              "      <td>99.0</td>\n",
              "      <td>36.22</td>\n",
              "      <td>154.0</td>\n",
              "      <td>83.33</td>\n",
              "      <td>60.773805</td>\n",
              "      <td>16.0</td>\n",
              "      <td>0.020709</td>\n",
              "      <td>0.519688</td>\n",
              "      <td>...</td>\n",
              "      <td>3.7</td>\n",
              "      <td>36.3</td>\n",
              "      <td>76.16</td>\n",
              "      <td>0</td>\n",
              "      <td>1.0</td>\n",
              "      <td>0.0</td>\n",
              "      <td>-0.02</td>\n",
              "      <td>4</td>\n",
              "      <td>0</td>\n",
              "      <td>0</td>\n",
              "    </tr>\n",
              "    <tr>\n",
              "      <th>4</th>\n",
              "      <td>4</td>\n",
              "      <td>51.0</td>\n",
              "      <td>98.0</td>\n",
              "      <td>36.22</td>\n",
              "      <td>155.0</td>\n",
              "      <td>98.33</td>\n",
              "      <td>60.773805</td>\n",
              "      <td>20.0</td>\n",
              "      <td>0.020709</td>\n",
              "      <td>0.519688</td>\n",
              "      <td>...</td>\n",
              "      <td>3.7</td>\n",
              "      <td>36.3</td>\n",
              "      <td>76.16</td>\n",
              "      <td>0</td>\n",
              "      <td>1.0</td>\n",
              "      <td>0.0</td>\n",
              "      <td>-0.02</td>\n",
              "      <td>5</td>\n",
              "      <td>0</td>\n",
              "      <td>0</td>\n",
              "    </tr>\n",
              "  </tbody>\n",
              "</table>\n",
              "<p>5 rows × 22 columns</p>\n",
              "</div>"
            ],
            "text/plain": [
              "   time    HR  O2Sat   Temp    SBP    MAP        DBP  Resp  BaseExcess  \\\n",
              "0     0  52.0   98.0  36.22  134.0  72.67  60.773805  20.0    0.020709   \n",
              "1     1  52.0   98.0  36.22  134.0  72.67  60.773805  20.0    0.020709   \n",
              "2     2  52.0   98.0  36.22  143.0  80.33  60.773805  20.0    0.020709   \n",
              "3     3  60.0   99.0  36.22  154.0  83.33  60.773805  16.0    0.020709   \n",
              "4     4  51.0   98.0  36.22  155.0  98.33  60.773805  20.0    0.020709   \n",
              "\n",
              "       FiO2  ...  Potassium   Hct    Age  Gender  Unit1  Unit2  HospAdmTime  \\\n",
              "0  0.519688  ...        3.7  36.3  76.16       0    1.0    0.0        -0.02   \n",
              "1  0.519688  ...        3.7  36.3  76.16       0    1.0    0.0        -0.02   \n",
              "2  0.519688  ...        3.7  36.3  76.16       0    1.0    0.0        -0.02   \n",
              "3  0.519688  ...        3.7  36.3  76.16       0    1.0    0.0        -0.02   \n",
              "4  0.519688  ...        3.7  36.3  76.16       0    1.0    0.0        -0.02   \n",
              "\n",
              "   ICULOS  SepsisLabel  patient_id  \n",
              "0       1            0           0  \n",
              "1       2            0           0  \n",
              "2       3            0           0  \n",
              "3       4            0           0  \n",
              "4       5            0           0  \n",
              "\n",
              "[5 rows x 22 columns]"
            ]
          },
          "execution_count": 32,
          "metadata": {},
          "output_type": "execute_result"
        }
      ],
      "source": [
        "train_data.head()"
      ]
    },
    {
      "cell_type": "code",
      "execution_count": 33,
      "metadata": {},
      "outputs": [],
      "source": [
        "# Prepare training data\n",
        "train_X = np.empty((0, window_size-1, n_features)) #\n",
        "train_y = np.empty((0,))\n",
        "for windows, patient_data in zip(train_windows, train_data.groupby('patient_id')):\n",
        "    patient_id, scaled_data = patient_data\n",
        "    X = np.stack(windows)[:, :-1, :n_features]\n",
        "    y = np.stack(windows)[:, -1, -2]\n",
        "    train_X = np.concatenate((train_X, X))\n",
        "    train_y = np.concatenate((train_y, y))"
      ]
    },
    {
      "cell_type": "code",
      "execution_count": 34,
      "metadata": {},
      "outputs": [
        {
          "data": {
            "text/plain": [
              "array([0., 0., 0., ..., 0., 0., 0.])"
            ]
          },
          "execution_count": 34,
          "metadata": {},
          "output_type": "execute_result"
        }
      ],
      "source": [
        "train_y"
      ]
    },
    {
      "cell_type": "code",
      "execution_count": 35,
      "metadata": {},
      "outputs": [
        {
          "data": {
            "text/plain": [
              "array([ 0.51156923, 22.10903481])"
            ]
          },
          "execution_count": 35,
          "metadata": {},
          "output_type": "execute_result"
        }
      ],
      "source": [
        "class_weights_array = compute_class_weight(class_weight='balanced',classes=np.unique(train_y), y=train_y)\n",
        "class_weights_array"
      ]
    },
    {
      "cell_type": "code",
      "execution_count": 36,
      "metadata": {},
      "outputs": [
        {
          "data": {
            "text/plain": [
              "{0: 0.5115692349159542, 1: 22.109034807932325}"
            ]
          },
          "execution_count": 36,
          "metadata": {},
          "output_type": "execute_result"
        }
      ],
      "source": [
        "# Define class weights\n",
        "class_weights = dict((i, weight) for i, weight in enumerate(class_weights_array  ))\n",
        "class_weights"
      ]
    },
    {
      "cell_type": "code",
      "execution_count": 37,
      "metadata": {},
      "outputs": [],
      "source": [
        "# Define the LSTM model architecture\n",
        "model = Sequential()\n",
        "model.add(LSTM(50, input_shape=(window_size-1, n_features)))\n",
        "model.add(Dense(1, activation='sigmoid'))"
      ]
    },
    {
      "cell_type": "code",
      "execution_count": 38,
      "metadata": {},
      "outputs": [],
      "source": [
        "# Compile the model\n",
        "model.compile(loss='binary_crossentropy', optimizer='adam')"
      ]
    },
    {
      "cell_type": "code",
      "execution_count": 39,
      "metadata": {},
      "outputs": [
        {
          "name": "stdout",
          "output_type": "stream",
          "text": [
            "Epoch 1/21\n",
            "19929/19929 [==============================] - 75s 4ms/step - loss: 0.6169\n",
            "Epoch 2/21\n",
            "19929/19929 [==============================] - 73s 4ms/step - loss: 0.6038\n",
            "Epoch 3/21\n",
            "19929/19929 [==============================] - 74s 4ms/step - loss: 0.5993\n",
            "Epoch 4/21\n",
            "19929/19929 [==============================] - 72s 4ms/step - loss: 0.5963\n",
            "Epoch 5/21\n",
            "19929/19929 [==============================] - 73s 4ms/step - loss: 0.5950\n",
            "Epoch 6/21\n",
            "19929/19929 [==============================] - 73s 4ms/step - loss: 0.6058\n",
            "Epoch 7/21\n",
            "19929/19929 [==============================] - 72s 4ms/step - loss: 0.6002\n",
            "Epoch 8/21\n",
            "19929/19929 [==============================] - 73s 4ms/step - loss: 0.6140\n",
            "Epoch 9/21\n",
            "19929/19929 [==============================] - 73s 4ms/step - loss: 0.6113\n",
            "Epoch 10/21\n",
            "19929/19929 [==============================] - 72s 4ms/step - loss: 0.6060\n",
            "Epoch 11/21\n",
            "19929/19929 [==============================] - 73s 4ms/step - loss: 0.6020\n",
            "Epoch 12/21\n",
            "19929/19929 [==============================] - 73s 4ms/step - loss: 0.6050\n",
            "Epoch 13/21\n",
            "19929/19929 [==============================] - 72s 4ms/step - loss: 0.6023\n",
            "Epoch 14/21\n",
            "19929/19929 [==============================] - 72s 4ms/step - loss: 0.5998\n",
            "Epoch 15/21\n",
            "19929/19929 [==============================] - 73s 4ms/step - loss: 0.6252\n",
            "Epoch 16/21\n",
            "19929/19929 [==============================] - 73s 4ms/step - loss: 0.6170\n",
            "Epoch 17/21\n",
            "19929/19929 [==============================] - 73s 4ms/step - loss: 0.6108\n",
            "Epoch 18/21\n",
            "19929/19929 [==============================] - 73s 4ms/step - loss: 0.6060\n",
            "Epoch 19/21\n",
            "19929/19929 [==============================] - 73s 4ms/step - loss: 0.6038\n",
            "Epoch 20/21\n",
            "19929/19929 [==============================] - 73s 4ms/step - loss: 0.6013\n",
            "Epoch 21/21\n",
            "19929/19929 [==============================] - 73s 4ms/step - loss: 0.5994\n"
          ]
        },
        {
          "data": {
            "text/plain": [
              "<keras.callbacks.History at 0x1bb88960450>"
            ]
          },
          "execution_count": 39,
          "metadata": {},
          "output_type": "execute_result"
        }
      ],
      "source": [
        "# Train the model\n",
        "model.fit(train_X, train_y, epochs=21, batch_size=32, class_weight=class_weights)"
      ]
    },
    {
      "cell_type": "code",
      "execution_count": 40,
      "metadata": {},
      "outputs": [],
      "source": [
        "# Create sliding windows for each patient in the test data\n",
        "test_windows = test_data.groupby('patient_id').apply(create_sliding_windows)"
      ]
    },
    {
      "cell_type": "code",
      "execution_count": 41,
      "metadata": {},
      "outputs": [],
      "source": [
        "# Prepare test data\n",
        "test_X = np.empty((0, window_size-1, n_features))\n",
        "test_y_true = np.empty((0,))\n",
        "for windows, patient_data in zip(test_windows, test_data.groupby('patient_id')):\n",
        "    patient_id, scaled_data = patient_data\n",
        "    X = np.stack(windows)[:, :-1, :n_features]\n",
        "    y_true = np.stack(windows)[:, -1, -2]  # Assuming sepsis_occurrence is the second last column\n",
        "    test_X = np.concatenate((test_X, X))\n",
        "    test_y_true = np.concatenate((test_y_true, y_true))"
      ]
    },
    {
      "cell_type": "code",
      "execution_count": 42,
      "metadata": {},
      "outputs": [
        {
          "data": {
            "text/plain": [
              "array([0., 0., 0., ..., 1., 1., 1.])"
            ]
          },
          "execution_count": 42,
          "metadata": {},
          "output_type": "execute_result"
        }
      ],
      "source": [
        "test_y_true"
      ]
    },
    {
      "cell_type": "code",
      "execution_count": 43,
      "metadata": {},
      "outputs": [
        {
          "data": {
            "text/plain": [
              "0.023019196717164618"
            ]
          },
          "execution_count": 43,
          "metadata": {},
          "output_type": "execute_result"
        }
      ],
      "source": [
        "sum(test_y_true)/len(test_y_true)"
      ]
    },
    {
      "cell_type": "code",
      "execution_count": 44,
      "metadata": {},
      "outputs": [
        {
          "name": "stdout",
          "output_type": "stream",
          "text": [
            "2224/2224 [==============================] - 4s 2ms/step\n",
            "Accuracy: 0.6516765507743332\n",
            "Precision: 0.044223044813735526\n",
            "Recall: 0.6855921855921856\n",
            "AUC-ROC Score: 0.6682348154658281\n"
          ]
        }
      ],
      "source": [
        "# Make predictions on the test data\n",
        "test_y_pred = model.predict(test_X)\n",
        "\n",
        "# Convert predictions to binary values\n",
        "test_y_pred = (test_y_pred > 0.5).astype(int)\n",
        "\n",
        "# Evaluate the model\n",
        "accuracy = accuracy_score(test_y_true, test_y_pred)\n",
        "precision = precision_score(test_y_true, test_y_pred)\n",
        "recall = recall_score(test_y_true, test_y_pred)\n",
        "auc_roc = roc_auc_score(test_y_true, test_y_pred)\n",
        "\n",
        "# Print evaluation metrics\n",
        "print(\"Accuracy:\", accuracy)\n",
        "print(\"Precision:\", precision)\n",
        "print(\"Recall:\", recall)\n",
        "print(\"AUC-ROC Score:\", auc_roc)"
      ]
    },
    {
      "cell_type": "code",
      "execution_count": 45,
      "metadata": {},
      "outputs": [
        {
          "name": "stdout",
          "output_type": "stream",
          "text": [
            "2224/2224 [==============================] - 4s 2ms/step\n"
          ]
        },
        {
          "data": {
            "image/png": "[encoded data removed]",
            "text/plain": [
              "<Figure size 640x480 with 1 Axes>"
            ]
          },
          "metadata": {},
          "output_type": "display_data"
        }
      ],
      "source": [
        "# Compute the predicted probabilities for the positive class\n",
        "test_y_pred_prob = model.predict(test_X)\n",
        "\n",
        "# Compute the AUC-ROC score\n",
        "auc_roc = roc_auc_score(test_y_true, test_y_pred_prob)\n",
        "\n",
        "# Compute the false positive rate (FPR) and true positive rate (TPR) at different thresholds\n",
        "fpr, tpr, thresholds = roc_curve(test_y_true, test_y_pred_prob)\n",
        "\n",
        "# Plot the ROC curve\n",
        "plt.plot(fpr, tpr, label='ROC curve (AUC = {:.2f})'.format(auc_roc))\n",
        "plt.plot([0, 1], [0, 1], 'k--')  # Diagonal line representing random guessing\n",
        "plt.xlabel('False Positive Rate')\n",
        "plt.ylabel('True Positive Rate')\n",
        "plt.title('Receiver Operating Characteristic (ROC) Curve')\n",
        "plt.legend()\n",
        "plt.show()\n",
        "     \n"
      ]
    },
    {
      "attachments": {},
      "cell_type": "markdown",
      "metadata": {},
      "source": [
        "Create table for results comparison"
      ]
    },
    {
      "cell_type": "code",
      "execution_count": 46,
      "metadata": {},
      "outputs": [],
      "source": [
        "# Define the window sizes\n",
        "window_sizes = [5, 10]"
      ]
    },
    {
      "cell_type": "code",
      "execution_count": 47,
      "metadata": {},
      "outputs": [],
      "source": [
        "# Initialize the table to store the results\n",
        "results_table = pd.DataFrame(columns=['Window Size', 'Accuracy', 'Precision', 'Recall', 'AUROC'])"
      ]
    },
    {
      "cell_type": "code",
      "execution_count": 48,
      "metadata": {},
      "outputs": [
        {
          "name": "stderr",
          "output_type": "stream",
          "text": [
            "C:\\Users\\User\\AppData\\Local\\Temp\\ipykernel_10440\\2999737253.py:2: FutureWarning: The frame.append method is deprecated and will be removed from pandas in a future version. Use pandas.concat instead.\n",
            "  results_table = results_table.append({\n"
          ]
        }
      ],
      "source": [
        "# Add the results to the table\n",
        "results_table = results_table.append({\n",
        "        'Window Size': window_sizes[0],\n",
        "        'Accuracy': accuracy,\n",
        "        'Precision': precision,\n",
        "        'Recall': recall,\n",
        "        'AUROC': auc_roc\n",
        "    }, ignore_index=True)"
      ]
    },
    {
      "attachments": {},
      "cell_type": "markdown",
      "metadata": {},
      "source": [
        "#### Window Size 10"
      ]
    },
    {
      "cell_type": "code",
      "execution_count": 49,
      "metadata": {},
      "outputs": [],
      "source": [
        "window_size = 10"
      ]
    },
    {
      "cell_type": "code",
      "execution_count": 50,
      "metadata": {},
      "outputs": [],
      "source": [
        "# Create sliding windows for each patient in the training data\n",
        "train_windows_10 = train_data.groupby('patient_id').apply(create_sliding_windows)"
      ]
    },
    {
      "cell_type": "code",
      "execution_count": 51,
      "metadata": {},
      "outputs": [],
      "source": [
        "# Prepare training data\n",
        "train_X_10 = np.empty((0, window_size-1, n_features)) #\n",
        "train_y_10 = np.empty((0,))\n",
        "for windows, patient_data in zip(train_windows_10, train_data.groupby('patient_id')):\n",
        "    patient_id, scaled_data = patient_data\n",
        "    if len(scaled_data) > 10:\n",
        "        X = np.stack(windows)[:, :-1, :n_features]\n",
        "        y = np.stack(windows)[:, -1, -2]\n",
        "        train_X_10 = np.concatenate((train_X_10, X))\n",
        "        train_y_10 = np.concatenate((train_y_10, y))"
      ]
    },
    {
      "cell_type": "code",
      "execution_count": 52,
      "metadata": {},
      "outputs": [
        {
          "data": {
            "text/plain": [
              "array([0., 0., 0., ..., 0., 0., 0.])"
            ]
          },
          "execution_count": 52,
          "metadata": {},
          "output_type": "execute_result"
        }
      ],
      "source": [
        "train_y_10"
      ]
    },
    {
      "cell_type": "code",
      "execution_count": 53,
      "metadata": {},
      "outputs": [
        {
          "data": {
            "text/plain": [
              "array([ 0.5116881 , 21.88927627])"
            ]
          },
          "execution_count": 53,
          "metadata": {},
          "output_type": "execute_result"
        }
      ],
      "source": [
        "class_weights_array = compute_class_weight(class_weight='balanced',classes=np.unique(train_y_10), y=train_y_10)\n",
        "class_weights_array"
      ]
    },
    {
      "cell_type": "code",
      "execution_count": 54,
      "metadata": {},
      "outputs": [
        {
          "data": {
            "text/plain": [
              "{0: 0.5116881000022483, 1: 21.889276268333735}"
            ]
          },
          "execution_count": 54,
          "metadata": {},
          "output_type": "execute_result"
        }
      ],
      "source": [
        "# Define class weights\n",
        "class_weights = dict((i, weight) for i, weight in enumerate(class_weights_array))\n",
        "class_weights"
      ]
    },
    {
      "cell_type": "code",
      "execution_count": 55,
      "metadata": {},
      "outputs": [],
      "source": [
        "# Define the LSTM model architecture\n",
        "model_10 = Sequential()\n",
        "model_10.add(LSTM(50, input_shape=(window_size-1, n_features)))\n",
        "model_10.add(Dense(1, activation='sigmoid'))"
      ]
    },
    {
      "cell_type": "code",
      "execution_count": 56,
      "metadata": {},
      "outputs": [],
      "source": [
        "# Compile the model\n",
        "model_10.compile(loss='binary_crossentropy', optimizer='adam')"
      ]
    },
    {
      "cell_type": "code",
      "execution_count": 57,
      "metadata": {},
      "outputs": [
        {
          "name": "stdout",
          "output_type": "stream",
          "text": [
            "Epoch 1/21\n",
            "17070/17070 [==============================] - 91s 5ms/step - loss: 0.6052\n",
            "Epoch 2/21\n",
            "17070/17070 [==============================] - 89s 5ms/step - loss: 0.5919\n",
            "Epoch 3/21\n",
            "17070/17070 [==============================] - 89s 5ms/step - loss: 0.5908\n",
            "Epoch 4/21\n",
            "17070/17070 [==============================] - 90s 5ms/step - loss: 0.5875\n",
            "Epoch 5/21\n",
            "17070/17070 [==============================] - 89s 5ms/step - loss: 0.5837\n",
            "Epoch 6/21\n",
            "17070/17070 [==============================] - 89s 5ms/step - loss: 0.5856\n",
            "Epoch 7/21\n",
            "17070/17070 [==============================] - 89s 5ms/step - loss: 0.5808\n",
            "Epoch 8/21\n",
            "17070/17070 [==============================] - 89s 5ms/step - loss: 0.5815\n",
            "Epoch 9/21\n",
            "17070/17070 [==============================] - 89s 5ms/step - loss: 0.5791\n",
            "Epoch 10/21\n",
            "17070/17070 [==============================] - 89s 5ms/step - loss: 0.5799\n",
            "Epoch 11/21\n",
            "17070/17070 [==============================] - 89s 5ms/step - loss: 0.5793\n",
            "Epoch 12/21\n",
            "17070/17070 [==============================] - 89s 5ms/step - loss: 0.5778\n",
            "Epoch 13/21\n",
            "17070/17070 [==============================] - 89s 5ms/step - loss: 0.5763\n",
            "Epoch 14/21\n",
            "17070/17070 [==============================] - 90s 5ms/step - loss: 0.5780\n",
            "Epoch 15/21\n",
            "17070/17070 [==============================] - 89s 5ms/step - loss: 0.5781\n",
            "Epoch 16/21\n",
            "17070/17070 [==============================] - 90s 5ms/step - loss: 0.5771\n",
            "Epoch 17/21\n",
            "17070/17070 [==============================] - 90s 5ms/step - loss: 0.5765\n",
            "Epoch 18/21\n",
            "17070/17070 [==============================] - 89s 5ms/step - loss: 0.5758\n",
            "Epoch 19/21\n",
            "17070/17070 [==============================] - 89s 5ms/step - loss: 0.5768\n",
            "Epoch 20/21\n",
            "17070/17070 [==============================] - 89s 5ms/step - loss: 0.5764\n",
            "Epoch 21/21\n",
            "17070/17070 [==============================] - 90s 5ms/step - loss: 0.5758\n"
          ]
        },
        {
          "data": {
            "text/plain": [
              "<keras.callbacks.History at 0x1bb5af45ed0>"
            ]
          },
          "execution_count": 57,
          "metadata": {},
          "output_type": "execute_result"
        }
      ],
      "source": [
        "# Train the model\n",
        "model_10.fit(train_X_10, train_y_10, epochs=21, batch_size=32, class_weight=class_weights)"
      ]
    },
    {
      "cell_type": "code",
      "execution_count": 58,
      "metadata": {},
      "outputs": [],
      "source": [
        "# Create sliding windows for each patient in the test data\n",
        "test_windows = test_data.groupby('patient_id').apply(create_sliding_windows)"
      ]
    },
    {
      "cell_type": "code",
      "execution_count": 59,
      "metadata": {},
      "outputs": [],
      "source": [
        "# Prepare test data\n",
        "test_X_10 = np.empty((0, window_size-1, n_features))\n",
        "test_y_true_10 = np.empty((0,))\n",
        "for windows, patient_data in zip(test_windows, test_data.groupby('patient_id')):\n",
        "    patient_id, scaled_data = patient_data\n",
        "    if len(scaled_data) > 10:\n",
        "        X = np.stack(windows)[:, :-1, :n_features]\n",
        "        y_true = np.stack(windows)[:, -1, -2]  # Assuming sepsis_occurrence is the second last column\n",
        "        test_X_10 = np.concatenate((test_X_10, X))\n",
        "        test_y_true_10 = np.concatenate((test_y_true_10, y_true))"
      ]
    },
    {
      "cell_type": "code",
      "execution_count": 60,
      "metadata": {},
      "outputs": [
        {
          "data": {
            "text/plain": [
              "array([0., 0., 0., ..., 1., 1., 1.])"
            ]
          },
          "execution_count": 60,
          "metadata": {},
          "output_type": "execute_result"
        }
      ],
      "source": [
        "test_y_true_10"
      ]
    },
    {
      "cell_type": "code",
      "execution_count": 61,
      "metadata": {},
      "outputs": [
        {
          "data": {
            "text/plain": [
              "0.0233625707025166"
            ]
          },
          "execution_count": 61,
          "metadata": {},
          "output_type": "execute_result"
        }
      ],
      "source": [
        "sum(test_y_true_10)/len(test_y_true_10)"
      ]
    },
    {
      "cell_type": "code",
      "execution_count": 62,
      "metadata": {},
      "outputs": [
        {
          "name": "stdout",
          "output_type": "stream",
          "text": [
            "1907/1907 [==============================] - 5s 2ms/step\n",
            "Accuracy: 0.897548979424543\n",
            "Precision: 0.10549558390578999\n",
            "Recall: 0.45263157894736844\n",
            "AUC-ROC Score: 0.6804118109610101\n"
          ]
        }
      ],
      "source": [
        "# Make predictions on the test data\n",
        "test_y_pred_10 = model_10.predict(test_X_10)\n",
        "\n",
        "# Convert predictions to binary values\n",
        "test_y_pred_10 = (test_y_pred_10 > 0.5).astype(int)\n",
        "\n",
        "# Evaluate the model\n",
        "accuracy_10 = accuracy_score(test_y_true_10, test_y_pred_10)\n",
        "precision_10 = precision_score(test_y_true_10, test_y_pred_10)\n",
        "recall_10 = recall_score(test_y_true_10, test_y_pred_10)\n",
        "auc_roc_10 = roc_auc_score(test_y_true_10, test_y_pred_10)\n",
        "\n",
        "# Print evaluation metrics\n",
        "print(\"Accuracy:\", accuracy_10)\n",
        "print(\"Precision:\", precision_10)\n",
        "print(\"Recall:\", recall_10)\n",
        "print(\"AUC-ROC Score:\", auc_roc_10)"
      ]
    },
    {
      "cell_type": "code",
      "execution_count": 63,
      "metadata": {},
      "outputs": [
        {
          "data": {
            "text/plain": [
              "6114"
            ]
          },
          "execution_count": 63,
          "metadata": {},
          "output_type": "execute_result"
        }
      ],
      "source": [
        "test_y_pred_10.sum()"
      ]
    },
    {
      "cell_type": "code",
      "execution_count": 64,
      "metadata": {},
      "outputs": [
        {
          "name": "stdout",
          "output_type": "stream",
          "text": [
            "1907/1907 [==============================] - 4s 2ms/step\n"
          ]
        },
        {
          "data": {
            "image/png": "[encoded data removed]",
            "text/plain": [
              "<Figure size 640x480 with 1 Axes>"
            ]
          },
          "metadata": {},
          "output_type": "display_data"
        }
      ],
      "source": [
        "# Compute the predicted probabilities for the positive class\n",
        "test_y_pred_prob_10 = model_10.predict(test_X_10)\n",
        "\n",
        "# Compute the AUC-ROC score\n",
        "auc_roc_10 = roc_auc_score(test_y_true_10, test_y_pred_prob_10)\n",
        "\n",
        "# Compute the false positive rate (FPR) and true positive rate (TPR) at different thresholds\n",
        "fpr, tpr, thresholds = roc_curve(test_y_true_10, test_y_pred_prob_10)\n",
        "\n",
        "# Plot the ROC curve\n",
        "plt.plot(fpr, tpr, label='ROC curve (AUC = {:.2f})'.format(auc_roc_10))\n",
        "plt.plot([0, 1], [0, 1], 'k--')  # Diagonal line representing random guessing\n",
        "plt.xlabel('False Positive Rate')\n",
        "plt.ylabel('True Positive Rate')\n",
        "plt.title('Receiver Operating Characteristic (ROC) Curve')\n",
        "plt.legend()\n",
        "plt.show()\n",
        "     \n"
      ]
    },
    {
      "cell_type": "code",
      "execution_count": 65,
      "metadata": {},
      "outputs": [
        {
          "name": "stderr",
          "output_type": "stream",
          "text": [
            "C:\\Users\\User\\AppData\\Local\\Temp\\ipykernel_10440\\1007679854.py:2: FutureWarning: The frame.append method is deprecated and will be removed from pandas in a future version. Use pandas.concat instead.\n",
            "  results_table = results_table.append({\n"
          ]
        }
      ],
      "source": [
        "# Add the results to the table\n",
        "results_table = results_table.append({\n",
        "        'Window Size': window_sizes[1],\n",
        "        'Accuracy': accuracy_10,\n",
        "        'Precision': precision_10,\n",
        "        'Recall': recall_10,\n",
        "        'AUROC': auc_roc_10\n",
        "    }, ignore_index=True)"
      ]
    },
    {
      "attachments": {},
      "cell_type": "markdown",
      "metadata": {},
      "source": [
        "## Compare Model Results"
      ]
    },
    {
      "cell_type": "code",
      "execution_count": 66,
      "metadata": {},
      "outputs": [
        {
          "name": "stdout",
          "output_type": "stream",
          "text": [
            "   Window Size  Accuracy  Precision    Recall     AUROC\n",
            "0          5.0  0.651677   0.044223  0.685592  0.740898\n",
            "1         10.0  0.897549   0.105496  0.452632  0.740680\n"
          ]
        }
      ],
      "source": [
        "# Print the results table\n",
        "print(results_table)"
      ]
    }
  ],
  "metadata": {
    "colab": {
      "include_colab_link": true,
      "provenance": [],
      "toc_visible": true
    },
    "kernelspec": {
      "display_name": "Python 3",
      "name": "python3"
    },
    "language_info": {
      "codemirror_mode": {
        "name": "ipython",
        "version": 3
      },
      "file_extension": ".py",
      "mimetype": "text/x-python",
      "name": "python",
      "nbconvert_exporter": "python",
      "pygments_lexer": "ipython3",
      "version": "3.11.1"
    }
  },
  "nbformat": 4,
  "nbformat_minor": 0
}
